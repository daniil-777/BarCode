{
 "cells": [
  {
   "cell_type": "code",
   "execution_count": 1,
   "metadata": {},
   "outputs": [],
   "source": [
    "import numpy as np\n",
    "import pandas as pd\n",
    "import sublevel as sb"
   ]
  },
  {
   "cell_type": "markdown",
   "metadata": {},
   "source": [
    "Let's take a test function -- \"camel function with three minima\":"
   ]
  },
  {
   "cell_type": "code",
   "execution_count": 2,
   "metadata": {},
   "outputs": [],
   "source": [
    "def Func(x, y):\n",
    "    return 2*x**2 - 1.05*x**4+x**6/6+x*y + y**2"
   ]
  },
  {
   "cell_type": "markdown",
   "metadata": {},
   "source": [
    "## Random point cloud"
   ]
  },
  {
   "cell_type": "markdown",
   "metadata": {},
   "source": [
    "We generate points and calculate function values at these points. It's important that generated numpy array would contain real numbers with the same accuracy like float32, otherwise the function's behaviour would be unpredictable!"
   ]
  },
  {
   "cell_type": "code",
   "execution_count": 3,
   "metadata": {},
   "outputs": [],
   "source": [
    "# 500000 random points in the square [-2, 2]*[-2, 2]\n",
    "coordinates = (4 * np.random.rand(500000,2) - 2).astype('float32')\n",
    "values = Func(coordinates[:,0], coordinates[:,1])"
   ]
  },
  {
   "cell_type": "code",
   "execution_count": 4,
   "metadata": {},
   "outputs": [],
   "source": [
    "res = sb.random(values, coordinates)"
   ]
  },
  {
   "cell_type": "markdown",
   "metadata": {},
   "source": [
    "It's convenient to represent the result as pandas.DataFrame"
   ]
  },
  {
   "cell_type": "code",
   "execution_count": 5,
   "metadata": {},
   "outputs": [],
   "source": [
    "Res = pd.DataFrame.from_dict(res)"
   ]
  },
  {
   "cell_type": "code",
   "execution_count": 6,
   "metadata": {},
   "outputs": [
    {
     "data": {
      "text/html": [
       "<div>\n",
       "<style scoped>\n",
       "    .dataframe tbody tr th:only-of-type {\n",
       "        vertical-align: middle;\n",
       "    }\n",
       "\n",
       "    .dataframe tbody tr th {\n",
       "        vertical-align: top;\n",
       "    }\n",
       "\n",
       "    .dataframe thead th {\n",
       "        text-align: right;\n",
       "    }\n",
       "</style>\n",
       "<table border=\"1\" class=\"dataframe\">\n",
       "  <thead>\n",
       "    <tr style=\"text-align: right;\">\n",
       "      <th></th>\n",
       "      <th>birth value</th>\n",
       "      <th>death value</th>\n",
       "      <th>birth of swallowed cluster</th>\n",
       "      <th>Id of dead minimum</th>\n",
       "      <th>Id of saddle</th>\n",
       "      <th>Id of swallowed minimum</th>\n",
       "      <th>Number of point in dead cluster</th>\n",
       "      <th>Number of point in swallowed cluster</th>\n",
       "    </tr>\n",
       "  </thead>\n",
       "  <tbody>\n",
       "    <tr>\n",
       "      <th>610</th>\n",
       "      <td>2.146926</td>\n",
       "      <td>2.266414</td>\n",
       "      <td>0.000059</td>\n",
       "      <td>21670</td>\n",
       "      <td>326949</td>\n",
       "      <td>112286</td>\n",
       "      <td>51</td>\n",
       "      <td>324118</td>\n",
       "    </tr>\n",
       "    <tr>\n",
       "      <th>2021</th>\n",
       "      <td>0.298662</td>\n",
       "      <td>0.877353</td>\n",
       "      <td>0.000059</td>\n",
       "      <td>69758</td>\n",
       "      <td>20285</td>\n",
       "      <td>112286</td>\n",
       "      <td>29106</td>\n",
       "      <td>80677</td>\n",
       "    </tr>\n",
       "    <tr>\n",
       "      <th>3341</th>\n",
       "      <td>0.000059</td>\n",
       "      <td>inf</td>\n",
       "      <td>inf</td>\n",
       "      <td>112286</td>\n",
       "      <td>-1</td>\n",
       "      <td>-1</td>\n",
       "      <td>499616</td>\n",
       "      <td>-1</td>\n",
       "    </tr>\n",
       "    <tr>\n",
       "      <th>4842</th>\n",
       "      <td>0.902148</td>\n",
       "      <td>0.974002</td>\n",
       "      <td>0.000059</td>\n",
       "      <td>161944</td>\n",
       "      <td>344323</td>\n",
       "      <td>112286</td>\n",
       "      <td>54</td>\n",
       "      <td>164228</td>\n",
       "    </tr>\n",
       "    <tr>\n",
       "      <th>7276</th>\n",
       "      <td>0.577370</td>\n",
       "      <td>0.630223</td>\n",
       "      <td>0.298662</td>\n",
       "      <td>241196</td>\n",
       "      <td>22346</td>\n",
       "      <td>69758</td>\n",
       "      <td>53</td>\n",
       "      <td>14678</td>\n",
       "    </tr>\n",
       "    <tr>\n",
       "      <th>7957</th>\n",
       "      <td>3.239271</td>\n",
       "      <td>3.328517</td>\n",
       "      <td>0.000059</td>\n",
       "      <td>263575</td>\n",
       "      <td>118187</td>\n",
       "      <td>112286</td>\n",
       "      <td>51</td>\n",
       "      <td>394266</td>\n",
       "    </tr>\n",
       "    <tr>\n",
       "      <th>8780</th>\n",
       "      <td>2.608188</td>\n",
       "      <td>2.758301</td>\n",
       "      <td>0.000059</td>\n",
       "      <td>291632</td>\n",
       "      <td>26000</td>\n",
       "      <td>112286</td>\n",
       "      <td>65</td>\n",
       "      <td>360487</td>\n",
       "    </tr>\n",
       "    <tr>\n",
       "      <th>12534</th>\n",
       "      <td>0.298641</td>\n",
       "      <td>0.877432</td>\n",
       "      <td>0.000059</td>\n",
       "      <td>416439</td>\n",
       "      <td>333834</td>\n",
       "      <td>112286</td>\n",
       "      <td>29304</td>\n",
       "      <td>109823</td>\n",
       "    </tr>\n",
       "  </tbody>\n",
       "</table>\n",
       "</div>"
      ],
      "text/plain": [
       "       birth value  death value  birth of swallowed cluster  \\\n",
       "610       2.146926     2.266414                    0.000059   \n",
       "2021      0.298662     0.877353                    0.000059   \n",
       "3341      0.000059          inf                         inf   \n",
       "4842      0.902148     0.974002                    0.000059   \n",
       "7276      0.577370     0.630223                    0.298662   \n",
       "7957      3.239271     3.328517                    0.000059   \n",
       "8780      2.608188     2.758301                    0.000059   \n",
       "12534     0.298641     0.877432                    0.000059   \n",
       "\n",
       "       Id of dead minimum  Id of saddle  Id of swallowed minimum  \\\n",
       "610                 21670        326949                   112286   \n",
       "2021                69758         20285                   112286   \n",
       "3341               112286            -1                       -1   \n",
       "4842               161944        344323                   112286   \n",
       "7276               241196         22346                    69758   \n",
       "7957               263575        118187                   112286   \n",
       "8780               291632         26000                   112286   \n",
       "12534              416439        333834                   112286   \n",
       "\n",
       "       Number of point in dead cluster  Number of point in swallowed cluster  \n",
       "610                                 51                                324118  \n",
       "2021                             29106                                 80677  \n",
       "3341                            499616                                    -1  \n",
       "4842                                54                                164228  \n",
       "7276                                53                                 14678  \n",
       "7957                                51                                394266  \n",
       "8780                                65                                360487  \n",
       "12534                            29304                                109823  "
      ]
     },
     "execution_count": 6,
     "metadata": {},
     "output_type": "execute_result"
    }
   ],
   "source": [
    "Res.loc[Res['Number of point in dead cluster'] > 50]"
   ]
  },
  {
   "cell_type": "markdown",
   "metadata": {},
   "source": [
    "We can see 3 minima and several noisy clusters."
   ]
  },
  {
   "cell_type": "markdown",
   "metadata": {},
   "source": [
    "## Rectangular grid for the points"
   ]
  },
  {
   "cell_type": "markdown",
   "metadata": {},
   "source": [
    "Here we have 2 functions: sb.grid и sb.grid_shape. The first one takes np.array tensor that consists of function values on the grid, second one is one-dimensional np.array that contains function values on the grid sorted by points lexicographic order, and np.array that contains dimensions of axis. Let's demonstrate this via examples:"
   ]
  },
  {
   "cell_type": "code",
   "execution_count": 25,
   "metadata": {},
   "outputs": [],
   "source": [
    "def ndim_grid(start,stop, steps):\n",
    "    ndims = len(start)\n",
    "    L = [np.linspace(start[i],stop[i], steps[i], dtype = np.float32) for i in range(ndims)]\n",
    "    return np.hstack((np.meshgrid(*L))).swapaxes(0,1).reshape(ndims,-1).T"
   ]
  },
  {
   "cell_type": "markdown",
   "metadata": {},
   "source": [
    "The function ndim_grid generates the list of coordinates in lexicographic order on the grid between points \"start\" and \"stop\" with the number of separations \"steps\". Let's apply it to our function:"
   ]
  },
  {
   "cell_type": "code",
   "execution_count": 32,
   "metadata": {},
   "outputs": [],
   "source": [
    "min = np.array([-2.0, -2.0], dtype = np.float32)\n",
    "max = np.array([2.0, 2.0], dtype = np.float32)\n",
    "shape = np.array([3000, 2000], dtype = np.int32)\n",
    "grid = ndim_grid(min, max, shape)\n",
    "values = Func(grid[:,0], grid[:,1])"
   ]
  },
  {
   "cell_type": "code",
   "execution_count": 33,
   "metadata": {},
   "outputs": [],
   "source": [
    "ans = sb.grid_shape(values, shape)"
   ]
  },
  {
   "cell_type": "code",
   "execution_count": 34,
   "metadata": {},
   "outputs": [
    {
     "data": {
      "text/html": [
       "<div>\n",
       "<style scoped>\n",
       "    .dataframe tbody tr th:only-of-type {\n",
       "        vertical-align: middle;\n",
       "    }\n",
       "\n",
       "    .dataframe tbody tr th {\n",
       "        vertical-align: top;\n",
       "    }\n",
       "\n",
       "    .dataframe thead th {\n",
       "        text-align: right;\n",
       "    }\n",
       "</style>\n",
       "<table border=\"1\" class=\"dataframe\">\n",
       "  <thead>\n",
       "    <tr style=\"text-align: right;\">\n",
       "      <th></th>\n",
       "      <th>birth value</th>\n",
       "      <th>death value</th>\n",
       "      <th>birth of swallowed cluster</th>\n",
       "      <th>Id of dead minimum</th>\n",
       "      <th>Id of saddle</th>\n",
       "      <th>Id of swallowed minimum</th>\n",
       "      <th>Number of point in dead cluster</th>\n",
       "      <th>Number of point in swallowed cluster</th>\n",
       "    </tr>\n",
       "  </thead>\n",
       "  <tbody>\n",
       "    <tr>\n",
       "      <th>0</th>\n",
       "      <td>0.298640</td>\n",
       "      <td>0.877361</td>\n",
       "      <td>0.000001</td>\n",
       "      <td>379436</td>\n",
       "      <td>1395267</td>\n",
       "      <td>2999000</td>\n",
       "      <td>347355</td>\n",
       "      <td>972343</td>\n",
       "    </tr>\n",
       "    <tr>\n",
       "      <th>1</th>\n",
       "      <td>0.000001</td>\n",
       "      <td>inf</td>\n",
       "      <td>inf</td>\n",
       "      <td>2999000</td>\n",
       "      <td>-1</td>\n",
       "      <td>-1</td>\n",
       "      <td>6000000</td>\n",
       "      <td>-1</td>\n",
       "    </tr>\n",
       "    <tr>\n",
       "      <th>2</th>\n",
       "      <td>0.000001</td>\n",
       "      <td>0.000003</td>\n",
       "      <td>0.000001</td>\n",
       "      <td>3000999</td>\n",
       "      <td>2998999</td>\n",
       "      <td>2999000</td>\n",
       "      <td>1</td>\n",
       "      <td>2</td>\n",
       "    </tr>\n",
       "    <tr>\n",
       "      <th>3</th>\n",
       "      <td>0.298640</td>\n",
       "      <td>0.877361</td>\n",
       "      <td>0.000001</td>\n",
       "      <td>5620563</td>\n",
       "      <td>4604732</td>\n",
       "      <td>2999000</td>\n",
       "      <td>347355</td>\n",
       "      <td>1319703</td>\n",
       "    </tr>\n",
       "  </tbody>\n",
       "</table>\n",
       "</div>"
      ],
      "text/plain": [
       "   birth value  death value  birth of swallowed cluster  Id of dead minimum  \\\n",
       "0     0.298640     0.877361                    0.000001              379436   \n",
       "1     0.000001          inf                         inf             2999000   \n",
       "2     0.000001     0.000003                    0.000001             3000999   \n",
       "3     0.298640     0.877361                    0.000001             5620563   \n",
       "\n",
       "   Id of saddle  Id of swallowed minimum  Number of point in dead cluster  \\\n",
       "0       1395267                  2999000                           347355   \n",
       "1            -1                       -1                          6000000   \n",
       "2       2998999                  2999000                                1   \n",
       "3       4604732                  2999000                           347355   \n",
       "\n",
       "   Number of point in swallowed cluster  \n",
       "0                                972343  \n",
       "1                                    -1  \n",
       "2                                     2  \n",
       "3                               1319703  "
      ]
     },
     "execution_count": 34,
     "metadata": {},
     "output_type": "execute_result"
    }
   ],
   "source": [
    "pd.DataFrame.from_dict(ans)"
   ]
  },
  {
   "cell_type": "markdown",
   "metadata": {},
   "source": [
    "We could also get the same result using function sb.grid, giving to it the only np.array of values and corresponding dimensions:"
   ]
  },
  {
   "cell_type": "code",
   "execution_count": 43,
   "metadata": {},
   "outputs": [],
   "source": [
    "val = values.reshape(3000, 2000)"
   ]
  },
  {
   "cell_type": "code",
   "execution_count": 44,
   "metadata": {},
   "outputs": [
    {
     "data": {
      "text/html": [
       "<div>\n",
       "<style scoped>\n",
       "    .dataframe tbody tr th:only-of-type {\n",
       "        vertical-align: middle;\n",
       "    }\n",
       "\n",
       "    .dataframe tbody tr th {\n",
       "        vertical-align: top;\n",
       "    }\n",
       "\n",
       "    .dataframe thead th {\n",
       "        text-align: right;\n",
       "    }\n",
       "</style>\n",
       "<table border=\"1\" class=\"dataframe\">\n",
       "  <thead>\n",
       "    <tr style=\"text-align: right;\">\n",
       "      <th></th>\n",
       "      <th>birth value</th>\n",
       "      <th>death value</th>\n",
       "      <th>birth of swallowed cluster</th>\n",
       "      <th>Id of dead minimum</th>\n",
       "      <th>Id of saddle</th>\n",
       "      <th>Id of swallowed minimum</th>\n",
       "      <th>Number of point in dead cluster</th>\n",
       "      <th>Number of point in swallowed cluster</th>\n",
       "    </tr>\n",
       "  </thead>\n",
       "  <tbody>\n",
       "    <tr>\n",
       "      <th>0</th>\n",
       "      <td>0.298640</td>\n",
       "      <td>0.877361</td>\n",
       "      <td>0.000001</td>\n",
       "      <td>379436</td>\n",
       "      <td>1395267</td>\n",
       "      <td>2999000</td>\n",
       "      <td>347355</td>\n",
       "      <td>972343</td>\n",
       "    </tr>\n",
       "    <tr>\n",
       "      <th>1</th>\n",
       "      <td>0.000001</td>\n",
       "      <td>inf</td>\n",
       "      <td>inf</td>\n",
       "      <td>2999000</td>\n",
       "      <td>-1</td>\n",
       "      <td>-1</td>\n",
       "      <td>6000000</td>\n",
       "      <td>-1</td>\n",
       "    </tr>\n",
       "    <tr>\n",
       "      <th>2</th>\n",
       "      <td>0.000001</td>\n",
       "      <td>0.000003</td>\n",
       "      <td>0.000001</td>\n",
       "      <td>3000999</td>\n",
       "      <td>2998999</td>\n",
       "      <td>2999000</td>\n",
       "      <td>1</td>\n",
       "      <td>2</td>\n",
       "    </tr>\n",
       "    <tr>\n",
       "      <th>3</th>\n",
       "      <td>0.298640</td>\n",
       "      <td>0.877361</td>\n",
       "      <td>0.000001</td>\n",
       "      <td>5620563</td>\n",
       "      <td>4604732</td>\n",
       "      <td>2999000</td>\n",
       "      <td>347355</td>\n",
       "      <td>1319703</td>\n",
       "    </tr>\n",
       "  </tbody>\n",
       "</table>\n",
       "</div>"
      ],
      "text/plain": [
       "   birth value  death value  birth of swallowed cluster  Id of dead minimum  \\\n",
       "0     0.298640     0.877361                    0.000001              379436   \n",
       "1     0.000001          inf                         inf             2999000   \n",
       "2     0.000001     0.000003                    0.000001             3000999   \n",
       "3     0.298640     0.877361                    0.000001             5620563   \n",
       "\n",
       "   Id of saddle  Id of swallowed minimum  Number of point in dead cluster  \\\n",
       "0       1395267                  2999000                           347355   \n",
       "1            -1                       -1                          6000000   \n",
       "2       2998999                  2999000                                1   \n",
       "3       4604732                  2999000                           347355   \n",
       "\n",
       "   Number of point in swallowed cluster  \n",
       "0                                972343  \n",
       "1                                    -1  \n",
       "2                                     2  \n",
       "3                               1319703  "
      ]
     },
     "execution_count": 44,
     "metadata": {},
     "output_type": "execute_result"
    }
   ],
   "source": [
    "ans = sb.grid(val)\n",
    "pd.DataFrame.from_dict(ans)"
   ]
  },
  {
   "cell_type": "markdown",
   "metadata": {},
   "source": [
    "This data contains one cluster of noise."
   ]
  },
  {
   "cell_type": "code",
   "execution_count": null,
   "metadata": {},
   "outputs": [],
   "source": []
  }
 ],
 "metadata": {
  "kernelspec": {
   "display_name": "Python 3",
   "language": "python",
   "name": "python3"
  },
  "language_info": {
   "codemirror_mode": {
    "name": "ipython",
    "version": 3
   },
   "file_extension": ".py",
   "mimetype": "text/x-python",
   "name": "python",
   "nbconvert_exporter": "python",
   "pygments_lexer": "ipython3",
   "version": "3.7.3"
  }
 },
 "nbformat": 4,
 "nbformat_minor": 2
}
