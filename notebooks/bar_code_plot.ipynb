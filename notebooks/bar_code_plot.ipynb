{
 "cells": [
  {
   "cell_type": "code",
   "execution_count": null,
   "metadata": {},
   "outputs": [],
   "source": [
    "%matplotlib inline\n",
    "\n",
    "import pylab\n",
    "import matplotlib\n",
    "import numpy as np\n",
    "import matplotlib.pyplot as plt\n",
    "from matplotlib import cm\n",
    "from mpl_toolkits.mplot3d import Axes3D\n",
    "from matplotlib.ticker import LinearLocator, FormatStrFormatter\n",
    "\n",
    "import tqdm\n",
    "\n",
    "import torch\n",
    "import torch.nn as nn\n",
    "\n",
    "from sklearn.metrics import mean_squared_error as mse\n",
    "from sklearn.metrics import pairwise_distances, pairwise_distances_argmin_min\n",
    "\n",
    "from functools import reduce\n",
    "import operator\n",
    "from multiprocess import Pool\n",
    "from ripser import Rips\n",
    "import random\n",
    "\n",
    "from IPython.display import clear_output\n",
    "\n",
    "import plotly \n",
    "plotly.tools.set_credentials_file(username='akorotin', api_key='Lhl71tOCZiqbDY3viMnQ')\n",
    "import plotly.plotly as py\n",
    "import plotly.graph_objs as go\n",
    "\n",
    "from copy import deepcopy\n",
    "from sklearn.decomposition import PCA\n",
    "import pandas as pd\n",
    "from scipy.interpolate import griddata\n",
    "\n",
    "from scipy.spatial import distance_matrix"
   ]
  },
  {
   "cell_type": "markdown",
   "metadata": {},
   "source": [
    "diagrams - list of arrays Each array consists of two numbers. Maximim - maximum loss. It will appear as a blue point. You can set this parameter to 0.1 in order to maintain the beauty of a plot"
   ]
  },
  {
   "cell_type": "code",
   "execution_count": null,
   "metadata": {},
   "outputs": [],
   "source": [
    "def plot_bar(diagrams, maximum):\n",
    "    #diagrams = np.loadtxt(name)\n",
    "    params = {'legend.fontsize': 'x-large',\n",
    "              'figure.figsize': (15, 5),\n",
    "             'axes.labelsize': 10,\n",
    "             'axes.titlesize':30,\n",
    "             'xtick.labelsize':20,\n",
    "             'ytick.labelsize':20}\n",
    "    pylab.rcParams.update(params)\n",
    "    \n",
    "    \n",
    "    from matplotlib.pyplot import figure\n",
    "    array1 = np.arange(diagrams[-1][0], diagrams[-2][1], 0.001)\n",
    "    array2 = np.ones(len(array1))\n",
    "    plt.figure(figsize=(10,10))\n",
    "#   plt.scatter(0, maximum, linestyle='dashed', color = \"blue\") #draw of the maximum\n",
    "    plt.plot(array2, array1, linestyle='dashed', color = \"blue\", markersize=12)\n",
    "#     plt.bar(1, diagrams[-2][1] - diagrams[-1][0], width = 0.01, bottom= diagrams[-1][0] )\n",
    "#     for j in np.arange(diagrams[-1][0], diagrams[-2][1], 0.001):\n",
    "#         plt.scatter(1, j, color = 'b',  s = 0.05)\n",
    "    for i in range(len(diagrams[:-1])):\n",
    "        bar1 = diagrams[i]\n",
    "        #print(i)\n",
    "        a = bar1[0]\n",
    "        b = bar1[1]\n",
    "        array1 = np.arange(a, b, 0.001)\n",
    "        array2 = (i + 2) * np.ones(len(array1))\n",
    "        plt.plot(array2, array1, color = 'r')\n",
    "        #plt.bar(2+i, b - a, width = 0.01, bottom= a, color = 'r')\n",
    "#         for j in np.arange(a, b, 0.01):\n",
    "#             plt.scatter(2+i, j, color = 'r')\n",
    "        \n",
    "#         plt.hlines(y=1, xmin=diagrams[-1][0], xmax=diagrams[-2][1], linewidth=1, color='b')\n",
    "#         plt.hlines(y=2 + i, xmin=a, xmax=b, linewidth=1, color='r')\n",
    "        plt.xticks(np.arange(0,len(diagrams)+101,100))\n",
    "        pylab.text (0.8, diagrams[-2][1], r'$\\infty$', fontsize = 30)\n",
    "        #plt.xticks([a,b])\n",
    "    plt.show() "
   ]
  }
 ],
 "metadata": {
  "kernelspec": {
   "display_name": "Python 3",
   "language": "python",
   "name": "python3"
  },
  "language_info": {
   "codemirror_mode": {
    "name": "ipython",
    "version": 3
   },
   "file_extension": ".py",
   "mimetype": "text/x-python",
   "name": "python",
   "nbconvert_exporter": "python",
   "pygments_lexer": "ipython3",
   "version": "3.7.3"
  }
 },
 "nbformat": 4,
 "nbformat_minor": 2
}
